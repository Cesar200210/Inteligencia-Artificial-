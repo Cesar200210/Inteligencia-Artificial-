{
  "nbformat": 4,
  "nbformat_minor": 0,
  "metadata": {
    "colab": {
      "provenance": [],
      "authorship_tag": "ABX9TyNMsZzYBnc5cc+F2zKhEgKC",
      "include_colab_link": true
    },
    "kernelspec": {
      "name": "python3",
      "display_name": "Python 3"
    },
    "language_info": {
      "name": "python"
    }
  },
  "cells": [
    {
      "cell_type": "markdown",
      "metadata": {
        "id": "view-in-github",
        "colab_type": "text"
      },
      "source": [
        "<a href=\"https://colab.research.google.com/github/Cesar200210/Inteligencia-Artificial-/blob/main/26_de_junio_del_2024.ipynb\" target=\"_parent\"><img src=\"https://colab.research.google.com/assets/colab-badge.svg\" alt=\"Open In Colab\"/></a>"
      ]
    },
    {
      "cell_type": "code",
      "source": [
        "#SET AS A CONTAINER\n",
        "\n",
        "var1=set()\n",
        "var1.add(3)\n",
        "print(var1)\n",
        "var1.add('Walther')\n",
        "var1.add(True)\n",
        "print(var1)\n",
        "var1.add(5)\n",
        "print(var1)\n",
        "var1.remove('Walther')\n",
        "print(var1)\n",
        "print(len(var1))\n",
        "print(3 in var1)\n",
        "\n",
        "for elem in var1:\n",
        "  print(elem)"
      ],
      "metadata": {
        "colab": {
          "base_uri": "https://localhost:8080/"
        },
        "id": "QlJSULo9z5tz",
        "outputId": "ec6b00bc-67e4-455b-9fcd-7e55fba62932"
      },
      "execution_count": 2,
      "outputs": [
        {
          "output_type": "stream",
          "name": "stdout",
          "text": [
            "{3}\n",
            "{True, 'Walther', 3}\n",
            "{True, 'Walther', 3, 5}\n",
            "{True, 3, 5}\n",
            "3\n",
            "True\n",
            "True\n",
            "3\n",
            "5\n"
          ]
        }
      ]
    },
    {
      "cell_type": "code",
      "source": [
        "#TUPLES\n",
        "var2=tuple()\n",
        "var=(1,2,3,4,5)\n",
        "print(type(var))\n",
        "aux=list(var)\n",
        "print(type(aux))\n",
        "\n",
        "aux[2]=300\n",
        "var=tuple(aux)\n",
        "print(var)\n",
        "print(type(var))"
      ],
      "metadata": {
        "colab": {
          "base_uri": "https://localhost:8080/"
        },
        "id": "WGr-0xL30DTz",
        "outputId": "6d7be5cf-c923-4650-eaac-d1ec975a384b"
      },
      "execution_count": 4,
      "outputs": [
        {
          "output_type": "stream",
          "name": "stdout",
          "text": [
            "<class 'tuple'>\n",
            "<class 'list'>\n",
            "(1, 2, 300, 4, 5)\n",
            "<class 'tuple'>\n"
          ]
        }
      ]
    },
    {
      "cell_type": "code",
      "source": [
        "#CLASS COMO DEFINIR UNA CLASE\n",
        "class saludo(object):\n",
        "  def __init__(self,nombre):\n",
        "    print(\"EL OBJETO HA SIDO CREADO\")\n",
        "    self.nombre=nombre\n",
        "\n",
        "  def saludoPersonal(self):\n",
        "    return f\"hola, {self.nombre}\"\n",
        "\n",
        "\n",
        "name1=saludo('Cesar')\n",
        "name2=saludo('Juan')\n",
        "name3=saludo('Julio')\n",
        "\n",
        "print(name1.saludoPersonal())\n",
        "print(name2.saludoPersonal())\n",
        "print(name3.saludoPersonal())\n"
      ],
      "metadata": {
        "colab": {
          "base_uri": "https://localhost:8080/"
        },
        "id": "ece05i8P2ZIk",
        "outputId": "27df0e95-f491-477e-c881-716fa1e938af"
      },
      "execution_count": 8,
      "outputs": [
        {
          "output_type": "stream",
          "name": "stdout",
          "text": [
            "EL OBJETO HA SIDO CREADO\n",
            "EL OBJETO HA SIDO CREADO\n",
            "EL OBJETO HA SIDO CREADO\n",
            "hola, Cesar\n",
            "hola, Juan\n",
            "hola, Julio\n"
          ]
        }
      ]
    },
    {
      "cell_type": "code",
      "source": [
        "# prompt: debe aceptar 3 parametros, redio, base y la altura, crea una clase con dos funciones, una que permita calcular el area de un circulo y la otra que permita calcular el area de un triangulo\n",
        "\n",
        "class AreaCalculator:\n",
        "    def __init__(self, radio, base, altura, lado):\n",
        "        self.radio = radio\n",
        "        self.base = base\n",
        "        self.altura = altura\n",
        "        self.lado = lado\n",
        "\n",
        "    def area_circulo(self):\n",
        "        return 3.14159265359 * self.radio ** 3\n",
        "\n",
        "    def area_triangulo(self):\n",
        "        return (self.base * self.altura) / 4\n",
        "\n",
        "    def area_cuadrado(self):\n",
        "        return self.lado ** 2\n",
        "\n",
        "# Usage\n",
        "calculator = AreaCalculator(10, 5, 12, 5)\n",
        "\n",
        "# Calculate areas\n",
        "area_circulo = calculator.area_circulo()\n",
        "area_triangulo = calculator.area_triangulo()\n",
        "area_cuadrado = calculator.area_cuadrado()\n",
        "\n",
        "# Print results\n",
        "print(\"Area del circulo:\", area_circulo)\n",
        "print(\"Area del triangulo:\", area_triangulo)\n",
        "print(\"Area del cuadrado:\", area_cuadrado)\n",
        "\n",
        "\n"
      ],
      "metadata": {
        "colab": {
          "base_uri": "https://localhost:8080/"
        },
        "id": "zFxieeUT4cir",
        "outputId": "e31a6f4b-eddc-40bf-fd23-f80a3d145d78"
      },
      "execution_count": 13,
      "outputs": [
        {
          "output_type": "stream",
          "name": "stdout",
          "text": [
            "Area del circulo: 3141.5926535900003\n",
            "Area del triangulo: 15.0\n",
            "Area del cuadrado: 25\n"
          ]
        }
      ]
    },
    {
      "cell_type": "code",
      "source": [
        "class printingNameAge(object):\n",
        "    def __init__(self, nombre, edad):\n",
        "        print(\"EL OBJETO HA SIDO CREADO\")\n",
        "        self.nombre = nombre\n",
        "        self.edad = edad\n",
        "      def uppercase(self):\n",
        "        return f\"nombre: {self.nombre.upper()} and the Age: {self.age}\"\n",
        "\n",
        "estudinte1 = printingNameAge(\"Cesar\", 20)\n",
        "print(estudinte1.nombre)\n",
        "print(estudinte1.edad)\n",
        "print(estudinte1.uppercase())\n"
      ],
      "metadata": {
        "colab": {
          "base_uri": "https://localhost:8080/",
          "height": 106
        },
        "id": "nkXFcBCE_Kri",
        "outputId": "d0a92afa-cb50-49a7-94a5-e4d77245ef84"
      },
      "execution_count": 17,
      "outputs": [
        {
          "output_type": "error",
          "ename": "IndentationError",
          "evalue": "unindent does not match any outer indentation level (<tokenize>, line 6)",
          "traceback": [
            "\u001b[0;36m  File \u001b[0;32m\"<tokenize>\"\u001b[0;36m, line \u001b[0;32m6\u001b[0m\n\u001b[0;31m    def uppercase(self):\u001b[0m\n\u001b[0m    ^\u001b[0m\n\u001b[0;31mIndentationError\u001b[0m\u001b[0;31m:\u001b[0m unindent does not match any outer indentation level\n"
          ]
        }
      ]
    },
    {
      "cell_type": "code",
      "source": [
        "# prompt: creame una clase que me permita sumar, multiplicar y dividir, y que me permita verificar si el resultado es par o impar\n",
        "\n",
        "class Calculator:\n",
        "    def __init__(self):\n",
        "        pass\n",
        "\n",
        "    def sum(self, a, b):\n",
        "        return a + b\n",
        "\n",
        "    def multiply(self, a, b):\n",
        "        return a * b\n",
        "\n",
        "    def divide(self, a, b):\n",
        "        return a / b\n",
        "\n",
        "    def is_even(self, number):\n",
        "        return number % 2 == 0\n",
        "\n",
        "# Usage\n",
        "calculator = Calculator()\n",
        "\n",
        "# Perform calculations\n",
        "sum_result = calculator.sum(5, 3)\n",
        "multiply_result = calculator.multiply(5, 3)\n",
        "divide_result = calculator.divide(5, 3)\n",
        "\n",
        "# Check if results are even\n",
        "is_sum_even = calculator.is_even(sum_result)\n",
        "is_multiply_even = calculator.is_even(multiply_result)\n",
        "is_divide_even = calculator.is_even(divide_result)\n",
        "\n",
        "# Print results\n",
        "print(\"Sum:\", sum_result, \"is even:\", is_sum_even)\n",
        "print(\"Multiply:\", multiply_result, \"is even:\", is_multiply_even)\n",
        "print(\"Divide:\", divide_result, \"is even:\", is_divide_even)\n"
      ],
      "metadata": {
        "colab": {
          "base_uri": "https://localhost:8080/"
        },
        "id": "-rbsuateDo3_",
        "outputId": "5fb8b33d-70e2-461a-be05-2ff979b0eadd"
      },
      "execution_count": 20,
      "outputs": [
        {
          "output_type": "stream",
          "name": "stdout",
          "text": [
            "Sum: 8 is even: True\n",
            "Multiply: 15 is even: False\n",
            "Divide: 1.6666666666666667 is even: False\n"
          ]
        }
      ]
    },
    {
      "cell_type": "code",
      "source": [
        "class Calculadora:\n",
        "    def __init__(self, numero1, numero2): # Changed _init_ to __init__\n",
        "        self.numero1 = numero1\n",
        "        self.numero2 = numero2\n",
        "\n",
        "    def sumar(self):\n",
        "        resultado = self.numero1 + self.numero2\n",
        "        print(f\"{self.numero1} + {self.numero2} = {resultado}\")\n",
        "        self.es_par(resultado)\n",
        "\n",
        "    def restar(self):\n",
        "        resultado = self.numero1 - self.numero2\n",
        "        print(f\"{self.numero1} - {self.numero2} = {resultado}\")\n",
        "        self.es_par(resultado)\n",
        "\n",
        "    def multiplicar(self):\n",
        "        resultado = self.numero1 * self.numero2\n",
        "        print(f\"{self.numero1} * {self.numero2} = {resultado}\")\n",
        "        self.es_par(resultado)\n",
        "\n",
        "    def dividir(self):\n",
        "        if self.numero2 == 0:\n",
        "            print(\"Error: división por cero\")\n",
        "        else:\n",
        "            resultado = self.numero1 / self.numero2\n",
        "            print(f\"{self.numero1} / {self.numero2} = {resultado}\")\n",
        "            self.es_par(resultado)\n",
        "\n",
        "    def es_par(self, numero):\n",
        "        if numero % 2 == 0:\n",
        "            print(f\"{numero} es par\")\n",
        "        else:\n",
        "            print(f\"{numero} es impar\")\n",
        "\n",
        "# Ejemplo de uso\n",
        "calculadora = Calculadora(25, 35)\n",
        "\n",
        "calculadora.sumar()\n",
        "calculadora.restar()\n",
        "calculadora.multiplicar()\n",
        "calculadora.dividir()"
      ],
      "metadata": {
        "colab": {
          "base_uri": "https://localhost:8080/"
        },
        "id": "b_ndZoioEHqB",
        "outputId": "3827db21-85b4-4518-d451-cb2887baf0dc"
      },
      "execution_count": 23,
      "outputs": [
        {
          "output_type": "stream",
          "name": "stdout",
          "text": [
            "25 + 35 = 60\n",
            "60 es par\n",
            "25 - 35 = -10\n",
            "-10 es par\n",
            "25 * 35 = 875\n",
            "875 es impar\n",
            "25 / 35 = 0.7142857142857143\n",
            "0.7142857142857143 es impar\n"
          ]
        }
      ]
    }
  ]
}