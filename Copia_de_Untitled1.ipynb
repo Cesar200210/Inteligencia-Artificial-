{
  "nbformat": 4,
  "nbformat_minor": 0,
  "metadata": {
    "colab": {
      "provenance": [],
      "authorship_tag": "ABX9TyMkxj/e1XxJcTgD5ArOZeI+",
      "include_colab_link": true
    },
    "kernelspec": {
      "name": "python3",
      "display_name": "Python 3"
    },
    "language_info": {
      "name": "python"
    }
  },
  "cells": [
    {
      "cell_type": "markdown",
      "metadata": {
        "id": "view-in-github",
        "colab_type": "text"
      },
      "source": [
        "<a href=\"https://colab.research.google.com/github/Cesar200210/Inteligencia-Artificial-/blob/main/Copia_de_Untitled1.ipynb\" target=\"_parent\"><img src=\"https://colab.research.google.com/assets/colab-badge.svg\" alt=\"Open In Colab\"/></a>"
      ]
    },
    {
      "cell_type": "code",
      "execution_count": 1,
      "metadata": {
        "colab": {
          "base_uri": "https://localhost:8080/"
        },
        "id": "dVtrdX6FBP-D",
        "outputId": "5a536c01-5baf-46a8-8d76-8a5abc5e4f3e"
      },
      "outputs": [
        {
          "output_type": "stream",
          "name": "stdout",
          "text": [
            "3.10.12 (main, Mar 22 2024, 16:50:05) [GCC 11.4.0]\n"
          ]
        }
      ],
      "source": [
        "import sys\n",
        "print(sys.version)"
      ]
    },
    {
      "cell_type": "code",
      "source": [
        "myNumber= 3\n",
        "myNumber= 3.6\n",
        "state=True"
      ],
      "metadata": {
        "id": "4vzERzA2Cx9D"
      },
      "execution_count": null,
      "outputs": []
    },
    {
      "cell_type": "code",
      "source": [
        "print(f'valor entero:{myNumber}')\n",
        "print(f'valor entero es = ',myNumber)"
      ],
      "metadata": {
        "colab": {
          "base_uri": "https://localhost:8080/"
        },
        "id": "uIfAAqNPDTd8",
        "outputId": "10731f02-bd3c-4a64-c842-94c89a6dcaba"
      },
      "execution_count": null,
      "outputs": [
        {
          "output_type": "stream",
          "name": "stdout",
          "text": [
            "valor entero:3.6\n",
            "valor entero es =  3.6\n"
          ]
        }
      ]
    },
    {
      "cell_type": "code",
      "source": [
        "aux1=10\n",
        "aux2=2\n",
        "\n",
        "print(\"la suma de las variables aux1 + aux2 =\",aux1+aux2)"
      ],
      "metadata": {
        "colab": {
          "base_uri": "https://localhost:8080/"
        },
        "id": "g3eyDuNMEZIm",
        "outputId": "dd1bb651-68ea-425d-efc3-ecc7aeb50635"
      },
      "execution_count": null,
      "outputs": [
        {
          "output_type": "stream",
          "name": "stdout",
          "text": [
            "la suma de las variables aux1 + aux2 = 12\n"
          ]
        }
      ]
    },
    {
      "cell_type": "code",
      "source": [
        "aux1=10\n",
        "aux2=2\n",
        "\n",
        "print(\"la resta de las variables aux1 + aux2 =\",aux1-aux2)"
      ],
      "metadata": {
        "colab": {
          "base_uri": "https://localhost:8080/"
        },
        "id": "cznWuhrUE-6O",
        "outputId": "cd199b1d-23cc-4b00-d2d1-c9ca6bb5220f"
      },
      "execution_count": null,
      "outputs": [
        {
          "output_type": "stream",
          "name": "stdout",
          "text": [
            "la resta de las variables aux1 + aux2 = 8\n"
          ]
        }
      ]
    },
    {
      "cell_type": "code",
      "source": [
        "aux1=10\n",
        "aux2=2\n",
        "\n",
        "print(\"la multiplicacion de las variables aux1 + aux2 =\",aux1*aux2)"
      ],
      "metadata": {
        "colab": {
          "base_uri": "https://localhost:8080/"
        },
        "id": "YVZi-hUQFEcb",
        "outputId": "edea8226-ddb9-4c44-94ba-02b23281da80"
      },
      "execution_count": null,
      "outputs": [
        {
          "output_type": "stream",
          "name": "stdout",
          "text": [
            "la multiplicacion de las variables aux1 + aux2 = 20\n"
          ]
        }
      ]
    },
    {
      "cell_type": "code",
      "source": [
        "aux1=10\n",
        "aux2=2\n",
        "\n",
        "print(\"la potencia de las variables aux1 + aux2 =\",aux1-aux2)"
      ],
      "metadata": {
        "colab": {
          "base_uri": "https://localhost:8080/"
        },
        "id": "k0RcrZhGFMBj",
        "outputId": "d037d813-fc8b-40b0-e660-ef801a9faf63"
      },
      "execution_count": null,
      "outputs": [
        {
          "output_type": "stream",
          "name": "stdout",
          "text": [
            "la potencia de las variables aux1 + aux2 = 8\n"
          ]
        }
      ]
    },
    {
      "cell_type": "code",
      "source": [
        "aux1=10\n",
        "aux2=2\n",
        "\n",
        "print(\"la divicion de las variables aux1 + aux2 =\",aux1/aux2)"
      ],
      "metadata": {
        "colab": {
          "base_uri": "https://localhost:8080/"
        },
        "id": "LXMqPytVFpxt",
        "outputId": "6bb8feea-d11e-4213-cf3a-b312abfee585"
      },
      "execution_count": null,
      "outputs": [
        {
          "output_type": "stream",
          "name": "stdout",
          "text": [
            "la divicion de las variables aux1 + aux2 = 5.0\n"
          ]
        }
      ]
    },
    {
      "cell_type": "code",
      "source": [
        "aux1=10\n",
        "aux2=2\n",
        "\n",
        "print(\"la potencia de las variables aux1**aux2 =\",aux1**aux2)"
      ],
      "metadata": {
        "colab": {
          "base_uri": "https://localhost:8080/"
        },
        "id": "0SQ74zkEFv9Y",
        "outputId": "6b4a6bbd-3d98-4366-f1ef-bb3e7fc88a4d"
      },
      "execution_count": null,
      "outputs": [
        {
          "output_type": "stream",
          "name": "stdout",
          "text": [
            "la potencia de las variables aux1**aux2 = 100\n"
          ]
        }
      ]
    },
    {
      "cell_type": "code",
      "source": [
        "var1='Hola'\n",
        "var2=',Cesar'\n",
        "\n",
        "print(var1+var2)"
      ],
      "metadata": {
        "colab": {
          "base_uri": "https://localhost:8080/"
        },
        "id": "By4S0kEYGYcM",
        "outputId": "960ab331-ed7a-4c38-840e-ac6747ce5e0b"
      },
      "execution_count": null,
      "outputs": [
        {
          "output_type": "stream",
          "name": "stdout",
          "text": [
            "Hola,Cesar\n"
          ]
        }
      ]
    },
    {
      "cell_type": "code",
      "source": [
        "print(3*var1)"
      ],
      "metadata": {
        "colab": {
          "base_uri": "https://localhost:8080/"
        },
        "id": "-ONCIKkJGuXM",
        "outputId": "b5a58185-fab3-41c5-b7ee-6b101b720db5"
      },
      "execution_count": null,
      "outputs": [
        {
          "output_type": "stream",
          "name": "stdout",
          "text": [
            "HolaHolaHola\n"
          ]
        }
      ]
    },
    {
      "cell_type": "code",
      "source": [
        "num1=10\n",
        "num2=10.5"
      ],
      "metadata": {
        "id": "okNzsfsmG0gd"
      },
      "execution_count": null,
      "outputs": []
    },
    {
      "cell_type": "code",
      "source": [
        "print('the type of the num1 is: ',type(num1))\n",
        "print('the type of the num1 is: ',type(num2))"
      ],
      "metadata": {
        "colab": {
          "base_uri": "https://localhost:8080/"
        },
        "id": "Y4xI51DxG6mh",
        "outputId": "88331b29-184b-4084-faa9-ee8a7f3d4b12"
      },
      "execution_count": null,
      "outputs": [
        {
          "output_type": "stream",
          "name": "stdout",
          "text": [
            "the type of the num1 is:  <class 'int'>\n",
            "the type of the num1 is:  <class 'float'>\n"
          ]
        }
      ]
    },
    {
      "cell_type": "code",
      "source": [
        "import numpy as np\n",
        "import pandas as pd\n",
        "\n",
        "print(np.__version__)\n",
        "serieData=pd.Series(data=[100,200,300],index=['juan','pedro','lucas'])\n",
        "print(serieData)\n",
        "print('////')\n",
        "print(serieData['juan'])\n",
        "\n",
        "print(serieData.index)\n",
        "print('pedro' in serieData)\n",
        "\n",
        "\n",
        "myDictionary={'one':pd.Series([100,200,300],index=['juan','pedro','lucas']),\n",
        "                'two':pd.Series([11,22,23],index=['julio','pedro','lucas'])}\n",
        "\n",
        "#series and dataframe\n",
        "#\n",
        "df=pd.DataFrame(myDictionary)\n",
        "print(df)\n",
        "print('we are here.........')\n",
        "print(df.index)\n",
        "print(df.columns)\n",
        "\n",
        "print(df.loc['juan'])\n"
      ],
      "metadata": {
        "colab": {
          "base_uri": "https://localhost:8080/"
        },
        "id": "DKE-sEh9zQX1",
        "outputId": "6acd39c6-8241-4d64-890b-93343ca062dc"
      },
      "execution_count": 7,
      "outputs": [
        {
          "output_type": "stream",
          "name": "stdout",
          "text": [
            "1.25.2\n",
            "juan     100\n",
            "pedro    200\n",
            "lucas    300\n",
            "dtype: int64\n",
            "////\n",
            "100\n",
            "Index(['juan', 'pedro', 'lucas'], dtype='object')\n",
            "True\n",
            "         one   two\n",
            "juan   100.0   NaN\n",
            "julio    NaN  11.0\n",
            "lucas  300.0  23.0\n",
            "pedro  200.0  22.0\n",
            "we are here.........\n",
            "Index(['juan', 'julio', 'lucas', 'pedro'], dtype='object')\n",
            "Index(['one', 'two'], dtype='object')\n",
            "one    100.0\n",
            "two      NaN\n",
            "Name: juan, dtype: float64\n"
          ]
        }
      ]
    }
  ]
}