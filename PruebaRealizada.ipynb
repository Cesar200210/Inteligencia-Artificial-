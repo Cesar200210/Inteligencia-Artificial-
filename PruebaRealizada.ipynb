{
  "nbformat": 4,
  "nbformat_minor": 0,
  "metadata": {
    "colab": {
      "provenance": [],
      "authorship_tag": "ABX9TyPvy6cLlM/78vMQ/cRiY42y",
      "include_colab_link": true
    },
    "kernelspec": {
      "name": "python3",
      "display_name": "Python 3"
    },
    "language_info": {
      "name": "python"
    }
  },
  "cells": [
    {
      "cell_type": "markdown",
      "metadata": {
        "id": "view-in-github",
        "colab_type": "text"
      },
      "source": [
        "<a href=\"https://colab.research.google.com/github/Cesar200210/Inteligencia-Artificial-/blob/main/PruebaRealizada.ipynb\" target=\"_parent\"><img src=\"https://colab.research.google.com/assets/colab-badge.svg\" alt=\"Open In Colab\"/></a>"
      ]
    },
    {
      "cell_type": "code",
      "execution_count": 10,
      "metadata": {
        "colab": {
          "base_uri": "https://localhost:8080/"
        },
        "id": "CnPKLP0T6IGz",
        "outputId": "857d47a2-9ccd-4df1-bad8-08057060e187"
      },
      "outputs": [
        {
          "output_type": "stream",
          "name": "stdout",
          "text": [
            "[0 1 2 3 4 5 6 7 8 9]\n"
          ]
        }
      ],
      "source": [
        "import numpy as np\n",
        "\n",
        "array_1d = np.arange(10)\n",
        "print(array_1d)"
      ]
    },
    {
      "cell_type": "code",
      "source": [
        "import numpy as np\n",
        "\n",
        "# Crear un vector aleatorio de tamaño 10\n",
        "random_vector = np.random.rand(10)\n",
        "print(\"Vector aleatorio original:\", random_vector)\n",
        "\n",
        "# Reemplazar el valor máximo en el vector por 0\n",
        "random_vector[random_vector.argmax()] = 0\n",
        "print(\"Vector después de reemplazar el valor máximo por 0:\", random_vector)\n"
      ],
      "metadata": {
        "colab": {
          "base_uri": "https://localhost:8080/"
        },
        "id": "uNFxZuTe6pnG",
        "outputId": "2c62d5cd-8017-4323-bb24-4ae5e9ab6cee"
      },
      "execution_count": 14,
      "outputs": [
        {
          "output_type": "stream",
          "name": "stdout",
          "text": [
            "Vector aleatorio original: [0.20210627 0.03747241 0.10875947 0.42610515 0.31875857 0.29126417\n",
            " 0.02240308 0.30483747 0.94197903 0.3630224 ]\n",
            "Vector después de reemplazar el valor máximo por 0: [0.20210627 0.03747241 0.10875947 0.42610515 0.31875857 0.29126417\n",
            " 0.02240308 0.30483747 0.         0.3630224 ]\n"
          ]
        }
      ]
    },
    {
      "cell_type": "code",
      "source": [
        "import numpy as np\n",
        "\n",
        "arr = np.array([[1, 2, 3, 4, 5], [6, 7, 8, 9, 10]])\n",
        "\n",
        "# Imprimir el número 8\n",
        "number_8 = arr[1, 2]\n",
        "print(number_8)"
      ],
      "metadata": {
        "colab": {
          "base_uri": "https://localhost:8080/"
        },
        "id": "3CwRtWfD7wjq",
        "outputId": "1f961772-de24-4d96-c5f6-428823e593e9"
      },
      "execution_count": 17,
      "outputs": [
        {
          "output_type": "stream",
          "name": "stdout",
          "text": [
            "8\n"
          ]
        }
      ]
    },
    {
      "cell_type": "code",
      "source": [
        "# Dado de matriz\n",
        "arr = np.array([1, 2, 3, 4, 5, 6, 7])\n",
        "\n",
        "# Imprimir los números [3, 4, 5]\n",
        "subset = arr[2:5]\n",
        "print(subset)"
      ],
      "metadata": {
        "colab": {
          "base_uri": "https://localhost:8080/"
        },
        "id": "7CTB_gZ074kn",
        "outputId": "97fb54b6-c5f9-46ab-8a97-6cff5843370b"
      },
      "execution_count": 19,
      "outputs": [
        {
          "output_type": "stream",
          "name": "stdout",
          "text": [
            "[3 4 5]\n"
          ]
        }
      ]
    },
    {
      "cell_type": "code",
      "source": [
        "import numpy as np\n",
        "\n",
        "# Dado de matriz\n",
        "arr = np.array([1, 2, 3, 4, 5, 6, 7])\n",
        "\n",
        "# Imprimir los últimos 4 números\n",
        "last_four_numbers = arr[-4:]\n",
        "print(last_four_numbers)\n"
      ],
      "metadata": {
        "colab": {
          "base_uri": "https://localhost:8080/"
        },
        "id": "uzoMhZz48GCm",
        "outputId": "01ed822a-2bcb-47b6-c9cf-3b068016e3ae"
      },
      "execution_count": 21,
      "outputs": [
        {
          "output_type": "stream",
          "name": "stdout",
          "text": [
            "[4 5 6 7]\n"
          ]
        }
      ]
    },
    {
      "cell_type": "code",
      "source": [
        "import numpy as np\n",
        "\n",
        "# Crear un array de 3x3 con todos los valores True\n",
        "array_true = np.full((3, 3), True)\n",
        "print(array_true)"
      ],
      "metadata": {
        "colab": {
          "base_uri": "https://localhost:8080/"
        },
        "id": "fy6gMAy58HnI",
        "outputId": "9b37d495-608e-4b5b-d4fa-af46787017c2"
      },
      "execution_count": 23,
      "outputs": [
        {
          "output_type": "stream",
          "name": "stdout",
          "text": [
            "[[ True  True  True]\n",
            " [ True  True  True]\n",
            " [ True  True  True]]\n"
          ]
        }
      ]
    },
    {
      "cell_type": "code",
      "source": [
        "import numpy as np\n",
        "\n",
        "# Dado de matriz\n",
        "arr = np.array([1, 2, 3, 4, 5, 6, 7, 8, 9, 10])\n",
        "\n",
        "# Extraer todos los números impares\n",
        "odd_numbers = arr[arr % 2 != 0]\n",
        "print(odd_numbers)"
      ],
      "metadata": {
        "colab": {
          "base_uri": "https://localhost:8080/"
        },
        "id": "nRHMf5cR8KpE",
        "outputId": "ef4dbc46-f7f8-4372-9eb9-e18cb11a3ae5"
      },
      "execution_count": 25,
      "outputs": [
        {
          "output_type": "stream",
          "name": "stdout",
          "text": [
            "[1 3 5 7 9]\n"
          ]
        }
      ]
    },
    {
      "cell_type": "code",
      "source": [
        "import numpy as np\n",
        "\n",
        "# Crear un vector con valores del 10 al 49\n",
        "vector = np.arange(10, 50)\n",
        "print(vector)\n"
      ],
      "metadata": {
        "colab": {
          "base_uri": "https://localhost:8080/"
        },
        "id": "isu_IyFZ8Oho",
        "outputId": "16440c25-9c4a-4186-ea9e-bb3ea9db8279"
      },
      "execution_count": 27,
      "outputs": [
        {
          "output_type": "stream",
          "name": "stdout",
          "text": [
            "[10 11 12 13 14 15 16 17 18 19 20 21 22 23 24 25 26 27 28 29 30 31 32 33\n",
            " 34 35 36 37 38 39 40 41 42 43 44 45 46 47 48 49]\n"
          ]
        }
      ]
    },
    {
      "cell_type": "code",
      "source": [
        "def reverse_vector(vector):\n",
        "    return vector[::-1]\n",
        "\n",
        "# Ejemplo:\n",
        "original_vector = [1, 2, 3, 4, 5]\n",
        "reversed_vector = reverse_vector(original_vector)\n",
        "print(\"Original:\", original_vector)\n",
        "print(\"Invertido:\", reversed_vector)"
      ],
      "metadata": {
        "colab": {
          "base_uri": "https://localhost:8080/"
        },
        "id": "DihySF6c8R58",
        "outputId": "a5f0c16d-09c6-486e-87fa-5f61f09a4192"
      },
      "execution_count": 29,
      "outputs": [
        {
          "output_type": "stream",
          "name": "stdout",
          "text": [
            "Original: [1, 2, 3, 4, 5]\n",
            "Invertido: [5, 4, 3, 2, 1]\n"
          ]
        }
      ]
    },
    {
      "cell_type": "code",
      "source": [
        "import numpy as np\n",
        "\n",
        "# Uuna matriz de 10x10 con valores enteros aleatorios entre 0 y 100\n",
        "array = np.random.randint(0, 101, size=(10, 10))\n",
        "\n",
        "# Encuentra valores mínimos y máximos.\n",
        "min_value = np.min(array)\n",
        "max_value = np.max(array)\n",
        "\n",
        "print(\"Array:\")\n",
        "print(array)\n",
        "print(\"\\nMinimum value:\", min_value)\n",
        "print(\"Maximum value:\", max_value)"
      ],
      "metadata": {
        "colab": {
          "base_uri": "https://localhost:8080/"
        },
        "id": "QXHkEkIO8Xj7",
        "outputId": "e727980d-3909-4d69-e02c-f1439279bca3"
      },
      "execution_count": 31,
      "outputs": [
        {
          "output_type": "stream",
          "name": "stdout",
          "text": [
            "Array:\n",
            "[[ 41  15   9   7  95  39  45  40  36  92]\n",
            " [ 70  99   5  52  18  42  63  33  87  96]\n",
            " [ 34   2  63  91   3  46  53  27   4  34]\n",
            " [ 97  94 100   3  99  94  99  99   5  62]\n",
            " [ 75  59  76  32  55   9  18  87   0  76]\n",
            " [ 98   4  35  78  99  41  23  29  89  88]\n",
            " [  5  39  20  83  17  85  28  59  34  42]\n",
            " [  6  23  72  70  10  28  96   1  19  40]\n",
            " [ 16  78  68  65   9  64  86  44  56  73]\n",
            " [ 21  65  15   5   6   9  50  27  77  44]]\n",
            "\n",
            "Minimum value: 0\n",
            "Maximum value: 100\n"
          ]
        }
      ]
    },
    {
      "cell_type": "code",
      "source": [
        "import numpy as np\n",
        "\n",
        "# Una matriz de 3x3x3 con valores aleatorios\n",
        "array = np.random.rand(3, 3, 3)\n",
        "\n",
        "print(\"Matriz 3x3x3 con valores aleatorios:\")\n",
        "print(array)"
      ],
      "metadata": {
        "colab": {
          "base_uri": "https://localhost:8080/"
        },
        "id": "xgGlc__d8zw7",
        "outputId": "5485ab10-74f5-43e6-c983-43741b018c1a"
      },
      "execution_count": 33,
      "outputs": [
        {
          "output_type": "stream",
          "name": "stdout",
          "text": [
            "Matriz 3x3x3 con valores aleatorios:\n",
            "[[[0.50250036 0.99759591 0.33298879]\n",
            "  [0.21577088 0.90634847 0.06778967]\n",
            "  [0.11487374 0.52189598 0.45181286]]\n",
            "\n",
            " [[0.25611784 0.23426373 0.89285471]\n",
            "  [0.37634626 0.9972372  0.68514653]\n",
            "  [0.10651207 0.94610602 0.76428315]]\n",
            "\n",
            " [[0.88458558 0.91938246 0.52112431]\n",
            "  [0.9977023  0.78465012 0.86864314]\n",
            "  [0.4657582  0.40967111 0.27120322]]]\n"
          ]
        }
      ]
    },
    {
      "cell_type": "code",
      "source": [
        "import numpy as np\n",
        "\n",
        "# Matriz de ejemplo\n",
        "arr = np.array([[1, 2, 3],\n",
        "                [4, 5, 6],\n",
        "                [7, 8, 9]])\n",
        "\n",
        "# Reemplazar números impares con -1\n",
        "arr[arr % 2 != 0] = -1\n",
        "\n",
        "print(\"Matriz modificada:\")\n",
        "print(arr)"
      ],
      "metadata": {
        "colab": {
          "base_uri": "https://localhost:8080/"
        },
        "id": "RQJwr2au81jg",
        "outputId": "c3018185-4401-46db-d279-5154efa4f69a"
      },
      "execution_count": 35,
      "outputs": [
        {
          "output_type": "stream",
          "name": "stdout",
          "text": [
            "Matriz modificada:\n",
            "[[-1  2 -1]\n",
            " [ 4 -1  6]\n",
            " [-1  8 -1]]\n"
          ]
        }
      ]
    },
    {
      "cell_type": "code",
      "source": [
        "import numpy as np\n",
        "\n",
        "# Crea una matriz de tipo float\n",
        "arr = np.array([[1, 2, 3],\n",
        "                [4, 5, 6],\n",
        "                [7, 8, 9]], dtype=float)\n",
        "\n",
        "print(\"Matriz de tipo flotante:\")\n",
        "print(arr)"
      ],
      "metadata": {
        "colab": {
          "base_uri": "https://localhost:8080/"
        },
        "id": "GecH1d-Y84_0",
        "outputId": "514cd96e-4f2e-4f01-ff92-6c55b1a4b267"
      },
      "execution_count": 37,
      "outputs": [
        {
          "output_type": "stream",
          "name": "stdout",
          "text": [
            "Matriz de tipo flotante:\n",
            "[[1. 2. 3.]\n",
            " [4. 5. 6.]\n",
            " [7. 8. 9.]]\n"
          ]
        }
      ]
    },
    {
      "cell_type": "code",
      "source": [
        "import numpy as np\n",
        "\n",
        "# Ejemplo de matriz 1D\n",
        "arr_1d = np.array([1, 2, 3, 4, 5, 6])\n",
        "\n",
        "# Convertir a una matriz 2D con 2 filas\n",
        "arr_2d = arr_1d.reshape(2, -1)  # -1 en remodelación infiere la dimensión restante\n",
        "\n",
        "print(\"Original 1D matriz:\")\n",
        "print(arr_1d)\n",
        "print(\"\\nMatriz 2D convertida con 2 filas:\")\n",
        "print(arr_2d)"
      ],
      "metadata": {
        "colab": {
          "base_uri": "https://localhost:8080/"
        },
        "id": "E8ZkD3Sv8-7L",
        "outputId": "b9eb9054-0e08-4d12-972f-9fcd27acd9c6"
      },
      "execution_count": 39,
      "outputs": [
        {
          "output_type": "stream",
          "name": "stdout",
          "text": [
            "Original 1D matriz:\n",
            "[1 2 3 4 5 6]\n",
            "\n",
            "Matriz 2D convertida con 2 filas:\n",
            "[[1 2 3]\n",
            " [4 5 6]]\n"
          ]
        }
      ]
    },
    {
      "cell_type": "code",
      "source": [
        "import numpy as np\n",
        "\n",
        "# Matrices de ejemplo\n",
        "Z1 = np.random.randint(0, 10, 10)\n",
        "Z2 = np.random.randint(0, 10, 10)\n",
        "\n",
        "# Encuentre valores comunes entre Z1 y Z2\n",
        "common_values = np.intersect1d(Z1, Z2)\n",
        "\n",
        "print(\"Matriz Z1:\", Z1)\n",
        "print(\"Matriz Z2:\", Z2)\n",
        "print(\"\\nValores comunes entre Z1 y Z2:\", common_values)"
      ],
      "metadata": {
        "colab": {
          "base_uri": "https://localhost:8080/"
        },
        "id": "_5bZ8-H_9CWb",
        "outputId": "631578ea-97a2-48ef-f8b5-a8f34f92561f"
      },
      "execution_count": 41,
      "outputs": [
        {
          "output_type": "stream",
          "name": "stdout",
          "text": [
            "Matriz Z1: [9 2 5 2 9 3 1 6 4 1]\n",
            "Matriz Z2: [9 1 2 9 9 1 0 6 3 7]\n",
            "\n",
            "Valores comunes entre Z1 y Z2: [1 2 3 6 9]\n"
          ]
        }
      ]
    },
    {
      "cell_type": "code",
      "source": [
        "import numpy as np\n",
        "\n",
        "# Generar matrices aleatorias A y B\n",
        "A = np.random.randint(0, 2, 5)\n",
        "B = np.random.randint(0, 2, 5)\n",
        "\n",
        "# Compruebe si las matrices A y B son iguales\n",
        "are_equal = np.array_equal(A, B)\n",
        "\n",
        "print(\"Matriz A:\", A)\n",
        "print(\"Matriz B:\", B)\n",
        "\n",
        "if are_equal:\n",
        "    print(\"\\nLas matrices A y B son iguales.\")\n",
        "else:\n",
        "    print(\"\\nLas matrices A y B no son iguales.\")"
      ],
      "metadata": {
        "colab": {
          "base_uri": "https://localhost:8080/"
        },
        "id": "KprKJtZX9DsF",
        "outputId": "6a7fdf50-47cc-4712-e678-c70a5e4d9967"
      },
      "execution_count": 43,
      "outputs": [
        {
          "output_type": "stream",
          "name": "stdout",
          "text": [
            "Matriz A: [1 0 1 1 0]\n",
            "Matriz B: [1 1 0 1 1]\n",
            "\n",
            "Las matrices A y B no son iguales.\n"
          ]
        }
      ]
    },
    {
      "cell_type": "code",
      "source": [
        "import numpy as np\n",
        "\n",
        "# Matrices de ejemplo\n",
        "a = np.array([[1, 2, 3],\n",
        "              [4, 5, 6]])\n",
        "\n",
        "b = np.array([[7, 8, 9],\n",
        "              [10, 11, 12]])\n",
        "\n",
        "# Apilar matrices a y b verticalmente\n",
        "stacked_array = np.vstack((a, b))\n",
        "\n",
        "print(\"Matriz a:\")\n",
        "print(a)\n",
        "print(\"\\nMatriz b:\")\n",
        "print(b)\n",
        "print(\"\\nMatriz apilada verticalmente:\")\n",
        "print(stacked_array)"
      ],
      "metadata": {
        "colab": {
          "base_uri": "https://localhost:8080/"
        },
        "id": "4R32eieY9HWG",
        "outputId": "c56f4cf9-e5b6-4af7-fb19-4f81b6727f76"
      },
      "execution_count": 45,
      "outputs": [
        {
          "output_type": "stream",
          "name": "stdout",
          "text": [
            "Matriz a:\n",
            "[[1 2 3]\n",
            " [4 5 6]]\n",
            "\n",
            "Matriz b:\n",
            "[[ 7  8  9]\n",
            " [10 11 12]]\n",
            "\n",
            "Matriz apilada verticalmente:\n",
            "[[ 1  2  3]\n",
            " [ 4  5  6]\n",
            " [ 7  8  9]\n",
            " [10 11 12]]\n"
          ]
        }
      ]
    },
    {
      "cell_type": "code",
      "source": [
        "import numpy as np\n",
        "\n",
        "# Matrices de ejemplo\n",
        "a = np.array([[1, 2],\n",
        "              [3, 4]])\n",
        "\n",
        "b = np.array([[5, 6],\n",
        "              [7, 8]])\n",
        "\n",
        "# Apilar las matrices a y b horizontalmente\n",
        "stacked_array = np.hstack((a, b))\n",
        "\n",
        "print(\"Matriz a:\")\n",
        "print(a)\n",
        "print(\"\\nMatriz b:\")\n",
        "print(b)\n",
        "print(\"\\nMatriz apilada horizontalmente:\")\n",
        "print(stacked_array)\n"
      ],
      "metadata": {
        "colab": {
          "base_uri": "https://localhost:8080/"
        },
        "id": "85wNYHza9KaN",
        "outputId": "6c192c04-fc3a-41bf-c0ff-1b89650b7170"
      },
      "execution_count": 47,
      "outputs": [
        {
          "output_type": "stream",
          "name": "stdout",
          "text": [
            "Matriz a:\n",
            "[[1 2]\n",
            " [3 4]]\n",
            "\n",
            "Matriz b:\n",
            "[[5 6]\n",
            " [7 8]]\n",
            "\n",
            "Matriz apilada horizontalmente:\n",
            "[[1 2 5 6]\n",
            " [3 4 7 8]]\n"
          ]
        }
      ]
    },
    {
      "cell_type": "code",
      "source": [
        "import numpy as np\n",
        "\n",
        "tmp = np.arange(15)\n",
        "\n",
        "# Consigue artículos entre 5 y 10\n",
        "result = tmp[(tmp > 5) & (tmp < 10)]\n",
        "\n",
        "print(\"Matriz original tmp:\")\n",
        "print(tmp)\n",
        "print(\"\\nArtículos entre 5 y 10:\")\n",
        "print(result)"
      ],
      "metadata": {
        "colab": {
          "base_uri": "https://localhost:8080/"
        },
        "id": "GuO3SQIB9PwT",
        "outputId": "b73314d5-1795-44a2-8333-afa5f2d0e4b6"
      },
      "execution_count": 49,
      "outputs": [
        {
          "output_type": "stream",
          "name": "stdout",
          "text": [
            "Matriz original tmp:\n",
            "[ 0  1  2  3  4  5  6  7  8  9 10 11 12 13 14]\n",
            "\n",
            "Artículos entre 5 y 10:\n",
            "[6 7 8 9]\n"
          ]
        }
      ]
    },
    {
      "cell_type": "code",
      "source": [
        "import numpy as np\n",
        "\n",
        "def pair_max(x, y):\n",
        "    \"\"\"Obtenga el máximo de elementos de dos matrices\"\"\"\n",
        "    return np.maximum(x, y)\n",
        "\n",
        "# Ejemplo:\n",
        "a = np.array([5, 7, 9, 8, 6, 4, 5])\n",
        "b = np.array([6, 3, 4, 8, 9, 7, 1])\n",
        "\n",
        "result = pair_max(a, b)\n",
        "print(result)"
      ],
      "metadata": {
        "colab": {
          "base_uri": "https://localhost:8080/"
        },
        "id": "PZgoYqHM9Q26",
        "outputId": "55017000-eef5-48ac-fc6d-e4d338a8d052"
      },
      "execution_count": 51,
      "outputs": [
        {
          "output_type": "stream",
          "name": "stdout",
          "text": [
            "[6 7 9 8 9 7 5]\n"
          ]
        }
      ]
    },
    {
      "cell_type": "code",
      "source": [
        "import numpy as np\n",
        "\n",
        "arr = np.arange(9).reshape(3, 3)\n",
        "print(\"Original matriz:\")\n",
        "print(arr)\n",
        "\n",
        "# Intercambiar columnas 1 y 2\n",
        "arr[:, [1, 2]] = arr[:, [2, 1]]\n",
        "\n",
        "print(\"\\nMatriz después de intercambiar las columnas 1 y 2:\")\n",
        "print(arr)"
      ],
      "metadata": {
        "colab": {
          "base_uri": "https://localhost:8080/"
        },
        "id": "M4j_grwZ9Tv8",
        "outputId": "8b61c002-179c-4511-e43b-d24481f4d947"
      },
      "execution_count": 53,
      "outputs": [
        {
          "output_type": "stream",
          "name": "stdout",
          "text": [
            "Original matriz:\n",
            "[[0 1 2]\n",
            " [3 4 5]\n",
            " [6 7 8]]\n",
            "\n",
            "Matriz después de intercambiar las columnas 1 y 2:\n",
            "[[0 2 1]\n",
            " [3 5 4]\n",
            " [6 8 7]]\n"
          ]
        }
      ]
    },
    {
      "cell_type": "code",
      "source": [
        "import numpy as np\n",
        "\n",
        "# Genere una matriz de 5x3 de números decimales aleatorios entre 5 y 10\n",
        "arr = np.random.uniform(5, 10, size=(5, 3))\n",
        "\n",
        "print(\"Matriz aleatoria de 5x3 entre 5 y 10:\")\n",
        "print(arr)"
      ],
      "metadata": {
        "colab": {
          "base_uri": "https://localhost:8080/"
        },
        "id": "y4IJ1iav9YWY",
        "outputId": "722dc4c8-ee7a-4f70-aba3-53cddfdf4b0a"
      },
      "execution_count": 54,
      "outputs": [
        {
          "output_type": "stream",
          "name": "stdout",
          "text": [
            "Matriz aleatoria de 5x3 entre 5 y 10:\n",
            "[[9.25565622 5.85296811 8.88268415]\n",
            " [5.37140743 7.86202658 6.98055839]\n",
            " [9.02216898 6.76879127 5.72562713]\n",
            " [7.95308096 8.73382371 9.22937851]\n",
            " [6.31080801 8.6684226  5.78825459]]\n"
          ]
        }
      ]
    }
  ]
}