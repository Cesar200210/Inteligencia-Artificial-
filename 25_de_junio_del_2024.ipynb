{
  "nbformat": 4,
  "nbformat_minor": 0,
  "metadata": {
    "colab": {
      "provenance": [],
      "authorship_tag": "ABX9TyNkG4x0th3S12O0i/hAP8Xg",
      "include_colab_link": true
    },
    "kernelspec": {
      "name": "python3",
      "display_name": "Python 3"
    },
    "language_info": {
      "name": "python"
    }
  },
  "cells": [
    {
      "cell_type": "markdown",
      "metadata": {
        "id": "view-in-github",
        "colab_type": "text"
      },
      "source": [
        "<a href=\"https://colab.research.google.com/github/Cesar200210/Inteligencia-Artificial-/blob/main/25_de_junio_del_2024.ipynb\" target=\"_parent\"><img src=\"https://colab.research.google.com/assets/colab-badge.svg\" alt=\"Open In Colab\"/></a>"
      ]
    },
    {
      "cell_type": "code",
      "execution_count": 1,
      "metadata": {
        "id": "b-jX2rd05TEe"
      },
      "outputs": [],
      "source": [
        "#Martes 25 de junio 2024"
      ]
    },
    {
      "cell_type": "code",
      "source": [
        "tmp=list()\n",
        "tmp.append(1)\n",
        "tmp.append('hola')\n",
        "tmp.append(3)\n",
        "print(tmp)\n",
        "\n",
        "#upper\n",
        "\n",
        "tmp1='hola'\n",
        "print(tmp1.upper())\n",
        "print(tmp1.capitalize())"
      ],
      "metadata": {
        "colab": {
          "base_uri": "https://localhost:8080/"
        },
        "id": "93kehW3L50kv",
        "outputId": "9c74069b-4fe7-45e3-b4b4-966599dfc312"
      },
      "execution_count": 2,
      "outputs": [
        {
          "output_type": "stream",
          "name": "stdout",
          "text": [
            "[1, 'hola', 3]\n",
            "HOLA\n",
            "Hola\n"
          ]
        }
      ]
    },
    {
      "cell_type": "code",
      "source": [
        "aux=[1,2,3,4,5,6,7,8,9,10]\n",
        "aux[4]=10\n",
        "print(aux)\n",
        "\n",
        "print(aux[-1])\n",
        "print(aux[0:5])\n",
        "print(aux[0:5:2])"
      ],
      "metadata": {
        "colab": {
          "base_uri": "https://localhost:8080/"
        },
        "id": "I-YIoAzo58QF",
        "outputId": "8ed43d04-281e-4abe-de84-429967885b82"
      },
      "execution_count": 3,
      "outputs": [
        {
          "output_type": "stream",
          "name": "stdout",
          "text": [
            "[1, 2, 3, 4, 10, 6, 7, 8, 9, 10]\n",
            "10\n",
            "[1, 2, 3, 4, 10]\n",
            "[1, 3, 10]\n"
          ]
        }
      ]
    },
    {
      "cell_type": "code",
      "source": [
        "aux=list()\n",
        "for i in range(100):\n",
        "    aux.append(i)\n",
        "print(aux[:20])"
      ],
      "metadata": {
        "colab": {
          "base_uri": "https://localhost:8080/"
        },
        "id": "fsvGBpjj6Bre",
        "outputId": "4fc522a0-5665-4c68-b98a-c0026422d6ba"
      },
      "execution_count": 4,
      "outputs": [
        {
          "output_type": "stream",
          "name": "stdout",
          "text": [
            "[0, 1, 2, 3, 4, 5, 6, 7, 8, 9, 10, 11, 12, 13, 14, 15, 16, 17, 18, 19]\n"
          ]
        }
      ]
    },
    {
      "cell_type": "code",
      "source": [
        "aux=list()\n",
        "for i in range(101):\n",
        "    if i%2==0:\n",
        "        aux.append(i)\n",
        "print(aux)"
      ],
      "metadata": {
        "colab": {
          "base_uri": "https://localhost:8080/"
        },
        "id": "ewsBE3Zx6Hne",
        "outputId": "51b50564-e23d-4e8d-d101-5a4b1b9106ad"
      },
      "execution_count": 5,
      "outputs": [
        {
          "output_type": "stream",
          "name": "stdout",
          "text": [
            "[0, 2, 4, 6, 8, 10, 12, 14, 16, 18, 20, 22, 24, 26, 28, 30, 32, 34, 36, 38, 40, 42, 44, 46, 48, 50, 52, 54, 56, 58, 60, 62, 64, 66, 68, 70, 72, 74, 76, 78, 80, 82, 84, 86, 88, 90, 92, 94, 96, 98, 100]\n"
          ]
        }
      ]
    },
    {
      "cell_type": "code",
      "source": [
        "tmp=list()\n",
        "tmp.append(5*5)\n",
        "tmp.append(7/2)\n",
        "tmp.append(3-4)\n",
        "print(tmp)\n",
        "print('La multiplicaicon es',tmp[0], 'la division es', tmp[1], 'la resta es', tmp[2])\n"
      ],
      "metadata": {
        "colab": {
          "base_uri": "https://localhost:8080/"
        },
        "id": "y-dsjhb-6LQl",
        "outputId": "095383d3-07da-4af4-b2ca-53344bed04f4"
      },
      "execution_count": 6,
      "outputs": [
        {
          "output_type": "stream",
          "name": "stdout",
          "text": [
            "[25, 3.5, -1]\n",
            "La multiplicaicon es 25 la division es 3.5 la resta es -1\n"
          ]
        }
      ]
    },
    {
      "cell_type": "code",
      "source": [
        "#En una linea de codigo  100 numeros y muetra los impares\n",
        "\n",
        "print([i for i in range(102) if i % 2 != 0])"
      ],
      "metadata": {
        "colab": {
          "base_uri": "https://localhost:8080/"
        },
        "id": "0Et9NalO6XiN",
        "outputId": "965ab829-5faf-49d7-b2bd-5b8f26f40eb3"
      },
      "execution_count": 7,
      "outputs": [
        {
          "output_type": "stream",
          "name": "stdout",
          "text": [
            "[1, 3, 5, 7, 9, 11, 13, 15, 17, 19, 21, 23, 25, 27, 29, 31, 33, 35, 37, 39, 41, 43, 45, 47, 49, 51, 53, 55, 57, 59, 61, 63, 65, 67, 69, 71, 73, 75, 77, 79, 81, 83, 85, 87, 89, 91, 93, 95, 97, 99, 101]\n"
          ]
        }
      ]
    },
    {
      "cell_type": "code",
      "source": [
        "animals=['cat','dog','monkey','rabbit']\n",
        "for animal in animals:\n",
        "    print(animal)"
      ],
      "metadata": {
        "colab": {
          "base_uri": "https://localhost:8080/"
        },
        "id": "Ry2HZIhs6Y7F",
        "outputId": "7e22a154-9cfb-490c-c39f-fe1b7f13d484"
      },
      "execution_count": 8,
      "outputs": [
        {
          "output_type": "stream",
          "name": "stdout",
          "text": [
            "cat\n",
            "dog\n",
            "monkey\n",
            "rabbit\n"
          ]
        }
      ]
    },
    {
      "cell_type": "code",
      "source": [
        "squares = [i**2 for i in range(1, 21)]\n",
        "print(squares)"
      ],
      "metadata": {
        "colab": {
          "base_uri": "https://localhost:8080/"
        },
        "id": "S-2c0C8S6c-l",
        "outputId": "42f02940-c68a-4c65-972a-b5c473b4fc29"
      },
      "execution_count": 9,
      "outputs": [
        {
          "output_type": "stream",
          "name": "stdout",
          "text": [
            "[1, 4, 9, 16, 25, 36, 49, 64, 81, 100, 121, 144, 169, 196, 225, 256, 289, 324, 361, 400]\n"
          ]
        }
      ]
    },
    {
      "cell_type": "code",
      "source": [
        "myDiccionary = {'cat': 'cute', 'dog': 'furry'}\n",
        "for key, value in myDiccionary.items():\n",
        "    print(key, value)"
      ],
      "metadata": {
        "colab": {
          "base_uri": "https://localhost:8080/"
        },
        "id": "l-5zxEVk6hel",
        "outputId": "3a541987-861a-48c1-bfb5-b5810713c960"
      },
      "execution_count": 10,
      "outputs": [
        {
          "output_type": "stream",
          "name": "stdout",
          "text": [
            "cat cute\n",
            "dog furry\n"
          ]
        }
      ]
    },
    {
      "cell_type": "code",
      "source": [
        "myDictionary={'cat':'cute', 'dog': 'big'}\n",
        "\n",
        "print(myDictionary['cat'])\n",
        "\n",
        "myDictAux={'monkey': 'black', 'mouse': 'small', 'rabbit': 'white'}\n",
        "\n",
        "myDictionary.update(myDictAux)\n",
        "\n",
        "print(myDictionary)\n",
        "for key, value in myDictionary.items(): # print(key)\n",
        "\n",
        "  print(f' key: {key} Value: {value}')\n",
        "\n",
        "myList=[1,2,3,1,5,6]\n",
        "\n",
        "myDictAux1={x: x**2 for x in myList}\n",
        "\n",
        "print(myDictAux1)"
      ],
      "metadata": {
        "colab": {
          "base_uri": "https://localhost:8080/"
        },
        "id": "fuX-BR2I6mtN",
        "outputId": "87cb9958-9243-459a-c0ec-815469c1df6e"
      },
      "execution_count": 11,
      "outputs": [
        {
          "output_type": "stream",
          "name": "stdout",
          "text": [
            "cute\n",
            "{'cat': 'cute', 'dog': 'big', 'monkey': 'black', 'mouse': 'small', 'rabbit': 'white'}\n",
            " key: cat Value: cute\n",
            " key: dog Value: big\n",
            " key: monkey Value: black\n",
            " key: mouse Value: small\n",
            " key: rabbit Value: white\n",
            "{1: 1, 2: 4, 3: 9, 5: 25, 6: 36}\n"
          ]
        }
      ]
    },
    {
      "cell_type": "code",
      "source": [
        "def suma_resta(a, b, operacion):\n",
        "  if operacion == 'suma':\n",
        "    return a + b, True\n",
        "  elif operacion == 'resta':\n",
        "    return a - b, False\n",
        "  else:\n",
        "    raise ValueError('Operación no válida')\n",
        "\n",
        "resultado, es_suma = suma_resta(5, 3, 'suma')\n",
        "print(f'Resultado: {resultado}, Es suma: {es_suma}')\n",
        "\n",
        "resultado, es_suma = suma_resta(5, 3, 'resta')\n",
        "print(f'Resultado: {resultado}, Es suma: {es_suma}')"
      ],
      "metadata": {
        "colab": {
          "base_uri": "https://localhost:8080/"
        },
        "id": "UoA1hTkb6yiE",
        "outputId": "ace021a8-5b92-41ee-8e58-62f6427c3f85"
      },
      "execution_count": 12,
      "outputs": [
        {
          "output_type": "stream",
          "name": "stdout",
          "text": [
            "Resultado: 8, Es suma: True\n",
            "Resultado: 2, Es suma: False\n"
          ]
        }
      ]
    },
    {
      "cell_type": "markdown",
      "source": [
        "crear una lista con 3 numeros y dentro de esa lista el elemento 1 sera -1 el elemento 2 -2 y el ultimo 0. luego haz una funcion y la llamaras con el elemento de esa lista.\n"
      ],
      "metadata": {
        "id": "JpuhjdYn633c"
      }
    },
    {
      "cell_type": "code",
      "source": [
        "lista = [-1, 1, 0]\n",
        "\n",
        "def signo(numero):\n",
        "  if numero > 0:\n",
        "    return \"positivo\"\n",
        "  elif numero < 0:\n",
        "    return \"negativo\"\n",
        "  else:\n",
        "    return \"no tiene signo\"\n",
        "\n",
        "for numero in lista:\n",
        "  print(f\"El número {numero} es {signo(numero)}\")"
      ],
      "metadata": {
        "colab": {
          "base_uri": "https://localhost:8080/"
        },
        "id": "2Y9KElfh7rOs",
        "outputId": "a8ab2099-055f-485c-ca6e-537455424861"
      },
      "execution_count": 13,
      "outputs": [
        {
          "output_type": "stream",
          "name": "stdout",
          "text": [
            "El número -1 es negativo\n",
            "El número 1 es positivo\n",
            "El número 0 es no tiene signo\n"
          ]
        }
      ]
    }
  ]
}